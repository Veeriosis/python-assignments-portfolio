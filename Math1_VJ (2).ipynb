{
 "cells": [
  {
   "cell_type": "code",
   "execution_count": 12,
   "id": "5dd2b226-5b1c-4c10-9197-78795f97423b",
   "metadata": {},
   "outputs": [
    {
     "name": "stdout",
     "output_type": "stream",
     "text": [
      "arctan(-2) = Error!\n",
      "arctan(0) = (0.0, 1, 0.0)\n",
      "arctan(0.12) = (0.119424, 2, 4.976639999999999e-06)\n",
      "arctan(0.5) = (0.46368427579365074, 5, 4.438920454545455e-05)\n",
      "arctan(0.8) = (0.6747970952625519, 13, 8.955006071219488e-05)\n",
      "arctan(0.99) = (0.7804225920622305, 169, 9.775326464854272e-05)\n",
      "arctan(1) = (0.7853481633979478, 5000, 9.999000099990002e-05)\n",
      "arctan(1.01) = Error!\n"
     ]
    }
   ],
   "source": [
    "def arctan(x): \n",
    "    if x < 0 or x > 1:\n",
    "        return 'Error!'\n",
    "    approx = 0 \n",
    "    error = float('inf')\n",
    "    n = 0\n",
    "    while error > 0.0001:\n",
    "        term = ((-1)**n) * (x**(2 * n + 1))/(2 * n + 1)\n",
    "        approx += term\n",
    "        error = (x ** (2 * (n + 1) + 1))/(2 * (n + 1) + 1)\n",
    "        n += 1\n",
    "    return approx, n, error\n",
    "trial = [-2, 0, 0.12, 0.5, 0.8, 0.99, 1, 1.01]\n",
    "for x in trial:\n",
    "    result = arctan(x)\n",
    "    print(f'arctan({x}) = {result}')\n"
   ]
  },
  {
   "cell_type": "code",
   "execution_count": null,
   "id": "04b4cb04-d374-46f5-9462-c69f25677782",
   "metadata": {},
   "outputs": [],
   "source": []
  },
  {
   "cell_type": "code",
   "execution_count": null,
   "id": "27afccbc-fd4e-4591-a9ed-02b8d3cb31a3",
   "metadata": {},
   "outputs": [],
   "source": []
  }
 ],
 "metadata": {
  "kernelspec": {
   "display_name": "Python 3 (ipykernel)",
   "language": "python",
   "name": "python3"
  },
  "language_info": {
   "codemirror_mode": {
    "name": "ipython",
    "version": 3
   },
   "file_extension": ".py",
   "mimetype": "text/x-python",
   "name": "python",
   "nbconvert_exporter": "python",
   "pygments_lexer": "ipython3",
   "version": "3.12.8"
  }
 },
 "nbformat": 4,
 "nbformat_minor": 5
}
