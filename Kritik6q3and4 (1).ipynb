{
 "cells": [
  {
   "cell_type": "code",
   "execution_count": 3,
   "id": "868817ed-dc2f-4977-893f-7f7108393568",
   "metadata": {},
   "outputs": [],
   "source": [
    "import numpy as np\n",
    "import matplotlib.pyplot as plt\n",
    "\n",
    "def normal_density(mean, variance, x):\n",
    "    Lower = 1/(variance*np.sqrt(2*np.pi))\n",
    "    Upper = np.exp(-0.5*(((x-mean)/variance)**2))\n",
    "    return Lower*Upper\n",
    "\n",
    "def plotter(mean, variance, fX):\n",
    "    x = np.linspace(0, 100, 200)\n",
    "    y = fX(mean, variance, x)\n",
    "    plt.plot(x, y)\n",
    "    plt.grid()\n",
    "    plt.show()\n",
    "\n",
    "    def quadrature_int(mean, variance, a, b, fX):\n",
    "        return (b-a)*(fX(mean, variance, a) + fX(mean, variance, b))/2\n",
    "\n",
    "    def composite_int(mean, variance, a, b, fX):\n",
    "        n = 10*round(b-a)\n",
    "        Val=0\n",
    "        for i in range(1, n-1):\n",
    "            Val+=fX(mean, variance, (a+i*((b-a)/n)))\n",
    "        return (((b-a)/n)*((fX(mean, variance, a)/2+Val+(fX(mean, variance, b)/2)))\n",
    "\n",
    "    print(quadrature_int(171, 7.1, 162, 190,normal_density))\n",
    "    print("
   ]
  },
  {
   "cell_type": "code",
   "execution_count": null,
   "id": "e45d4d26-37d1-4343-b614-8e97002798fc",
   "metadata": {},
   "outputs": [],
   "source": []
  }
 ],
 "metadata": {
  "kernelspec": {
   "display_name": "Python 3 (ipykernel)",
   "language": "python",
   "name": "python3"
  },
  "language_info": {
   "codemirror_mode": {
    "name": "ipython",
    "version": 3
   },
   "file_extension": ".py",
   "mimetype": "text/x-python",
   "name": "python",
   "nbconvert_exporter": "python",
   "pygments_lexer": "ipython3",
   "version": "3.12.8"
  }
 },
 "nbformat": 4,
 "nbformat_minor": 5
}
