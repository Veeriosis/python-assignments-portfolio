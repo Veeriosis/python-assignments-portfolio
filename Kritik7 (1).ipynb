{
 "cells": [
  {
   "cell_type": "code",
   "execution_count": 7,
   "id": "025a1104-a303-4bec-aed6-d9493e5ebc6d",
   "metadata": {},
   "outputs": [],
   "source": [
    "import numpy as np\n",
    "from scipy.special import gamma\n",
    "def t_distribution_pdf(x, nu):\n",
    "\n",
    "#Compute the probability density of the t-distribution\n",
    "#at a given point x with nu degrees of freedom.\n",
    "#Parameters:\n",
    "#x (float): The point at which to evaluate the density.\n",
    "#nu (int): The degrees of freedom of the t-distribution.\n",
    "#Returns:\n",
    "#density (float): The probability density at point x for\n",
    "#the t-distribution with nu degrees of freedom.\n",
    "\n",
    "    coeff = gamma((nu + 1) / 2) / (np.sqrt(nu * np.pi) * gamma(nu / 2))\n",
    "    density = coeff * (1 + x**2 / nu) ** (-0.5 * (nu + 1))\n",
    "    return density\n",
    "def find_t_star(prob, nu, x_start=0, x_end=20, num_points=10000):\n",
    "\n",
    "#Find the t-value t* for a given cumulative probability\n",
    "#and degrees of freedom.\n",
    "#Parameters:\n",
    "#prob (float): The cumulative probability (between 0 and 1).\n",
    "#nu (int): The degrees of freedom of the t-distribution.\n",
    "#x_start (float): The start point for numerical integration.\n",
    "#x_end (float): The end point for numerical integration.\n",
    "#20 will almost always be big enough.\n",
    "#num_points (int): The number of points to use in\n",
    "#the numerical integration.\n",
    "#Returns:\n",
    "#float: The t-value t* such that the area between [-t*, t*]\n",
    "#equals the given probability.\n",
    "\n",
    "    # Define the x values\n",
    "    x = np.linspace(x_start, x_end, num_points)\n",
    "    # Apply the density function to the x values\n",
    "    y = t_distribution_pdf(x, nu)\n",
    "    # This next line is the integration (exercise: why does this work?)\n",
    "    cdf = np.cumsum(y) * (x[1] - x[0])\n",
    "    # Find the t-value where the cumulative probability reaches half of the\n",
    "    #required probability\n",
    "    target_half_prob = prob/2\n",
    "    index = np.where(cdf >= target_half_prob)[0][0]\n",
    "    return x[index]\n",
    "def mean(list):\n",
    "    sum = 0\n",
    "    for i in range(0,len(list)):\n",
    "        sum = sum + list[i]\n",
    "    return sum/len(list)\n",
    "def std_dev(x):\n",
    "    std=0\n",
    "    n = len(x)\n",
    "    for i in range (0,len(x)-1):\n",
    "        std=std+(x[i]-mean(x))**2\n",
    "    std=std/(n-1)\n",
    "    std=std**0.5\n",
    "    return std\n",
    "def t0(x,nu):\n",
    "    return (mean(x)-nu)/(std_dev(x)/(len(x)**0.5))\n",
    "def ttest(x,nu,prob):\n",
    "    if abs(t0(x,nu))<find_t_star(prob,nu):\n",
    "        return True\n",
    "    else:\n",
    "        return False"
   ]
  },
  {
   "cell_type": "code",
   "execution_count": 6,
   "id": "fa047f13-c787-46b5-95a4-1d0e618105a9",
   "metadata": {},
   "outputs": [
    {
     "name": "stdout",
     "output_type": "stream",
     "text": [
      "The mean of the new test scores is :  82.382\n",
      "The standard deviation of the test scores is :  10.134950397291325\n",
      "t* of the test scores with respect to the population average 75 2.2522252225222523\n",
      "t0 of the test scores is :  2.3033101073293767\n",
      "If This test comes back false, the new test scores are significantly different than average ::  False\n"
     ]
    }
   ],
   "source": [
    "test_scores = [92.64,79.00,84.79,97.41,93.68,65.23,84.50,73.49,73.97,79.11]\n",
    "national_average = 75\n",
    "print(\"The mean of the new test scores is : \",mean(test_scores))\n",
    "print(\"The standard deviation of the test scores is : \",std_dev(test_scores))\n",
    "print(\"t* of the test scores with respect to the population average 75\",find_t_star(0.95,len(test_scores)-1))\n",
    "print(\"t0 of the test scores is : \" ,t0(test_scores,75))\n",
    "print(\"If This test comes back false, the new test scores are significantly different than average :: \",ttest(test_scores, 75, 0.95))\n",
    "#since the ttest comes back false, the new scores are significantly different, and because t0 is positive, the new teaching methods were helpful "
   ]
  },
  {
   "cell_type": "code",
   "execution_count": null,
   "id": "ea8c1e0b-5179-451c-82a4-efc78d9694d3",
   "metadata": {},
   "outputs": [],
   "source": []
  }
 ],
 "metadata": {
  "kernelspec": {
   "display_name": "Python 3 (ipykernel)",
   "language": "python",
   "name": "python3"
  },
  "language_info": {
   "codemirror_mode": {
    "name": "ipython",
    "version": 3
   },
   "file_extension": ".py",
   "mimetype": "text/x-python",
   "name": "python",
   "nbconvert_exporter": "python",
   "pygments_lexer": "ipython3",
   "version": "3.12.8"
  }
 },
 "nbformat": 4,
 "nbformat_minor": 5
}
